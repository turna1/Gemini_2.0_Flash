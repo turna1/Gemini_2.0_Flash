{
  "cells": [
    {
      "cell_type": "markdown",
      "metadata": {
        "id": "view-in-github",
        "colab_type": "text"
      },
      "source": [
        "<a href=\"https://colab.research.google.com/github/turna1/Gemini_2.0_Flash/blob/main/gemini_2_0_starter.ipynb\" target=\"_parent\"><img src=\"https://colab.research.google.com/assets/colab-badge.svg\" alt=\"Open In Colab\"/></a>"
      ]
    },
    {
      "cell_type": "markdown",
      "metadata": {
        "id": "8MqT58L6Rm_q"
      },
      "source": [
        "| | |\n",
        "|-|-|\n",
        "| Contributor|  [Rahatara Ferdousi](https://github.com/turna1)"
      ]
    },
    {
      "cell_type": "markdown",
      "metadata": {
        "id": "WfFPCBL4Hq8x"
      },
      "source": [
        "\n",
        "\n",
        "**In this tutorial, you will learn how to use few latest capabilities of the Gemini API in Vertex AI and the Google Gen AI SDK for Python with the Gemini 2.0 Flash model.**"
      ]
    },
    {
      "cell_type": "markdown",
      "metadata": {
        "id": "CHRZUpfWSEpp"
      },
      "source": [
        "**Install Google Gen AI SDK for Python**\n"
      ]
    },
    {
      "cell_type": "code",
      "execution_count": 1,
      "metadata": {
        "id": "sG3_LKsWSD3A",
        "outputId": "794ae829-50ce-4368-8059-a74f91cb7db1",
        "colab": {
          "base_uri": "https://localhost:8080/"
        }
      },
      "outputs": [
        {
          "output_type": "stream",
          "name": "stdout",
          "text": [
            "\u001b[?25l   \u001b[90m━━━━━━━━━━━━━━━━━━━━━━━━━━━━━━━━━━━━━━━━\u001b[0m \u001b[32m0.0/111.5 kB\u001b[0m \u001b[31m?\u001b[0m eta \u001b[36m-:--:--\u001b[0m\r\u001b[2K   \u001b[91m━━━━━━━━━━━━━━━━━━━━━━━━━━━━━━━━━━━━\u001b[0m\u001b[91m╸\u001b[0m\u001b[90m━━━\u001b[0m \u001b[32m102.4/111.5 kB\u001b[0m \u001b[31m4.2 MB/s\u001b[0m eta \u001b[36m0:00:01\u001b[0m\r\u001b[2K   \u001b[90m━━━━━━━━━━━━━━━━━━━━━━━━━━━━━━━━━━━━━━━━\u001b[0m \u001b[32m111.5/111.5 kB\u001b[0m \u001b[31m2.6 MB/s\u001b[0m eta \u001b[36m0:00:00\u001b[0m\n",
            "\u001b[?25h"
          ]
        }
      ],
      "source": [
        "%pip install --upgrade --quiet google-genai"
      ]
    },
    {
      "cell_type": "markdown",
      "metadata": {
        "id": "HlMVjiAWSMNX"
      },
      "source": [
        "**Authenticate your notebook environment (Colab only)**\n",
        "\n",
        "If you are running this notebook on Google Colab, run the cell below to authenticate your environment."
      ]
    },
    {
      "cell_type": "code",
      "execution_count": 2,
      "metadata": {
        "id": "12fnq4V0SNV3"
      },
      "outputs": [],
      "source": [
        "import sys\n",
        "\n",
        "if \"google.colab\" in sys.modules:\n",
        "    from google.colab import auth\n",
        "\n",
        "    auth.authenticate_user()"
      ]
    },
    {
      "cell_type": "markdown",
      "metadata": {
        "id": "EdvJRUWRNGHE"
      },
      "source": [
        "**Import libraries**\n"
      ]
    },
    {
      "cell_type": "code",
      "execution_count": 3,
      "metadata": {
        "id": "qgdSpVmDbdQ9"
      },
      "outputs": [],
      "source": [
        "from IPython.display import HTML, Markdown, display\n",
        "from google import genai\n",
        "from google.genai.types import (\n",
        "    FunctionDeclaration,\n",
        "    GenerateContentConfig,\n",
        "    GoogleSearch,\n",
        "    Part,\n",
        "    Retrieval,\n",
        "    SafetySetting,\n",
        "    Tool,\n",
        "    VertexAISearch,\n",
        ")"
      ]
    },
    {
      "cell_type": "markdown",
      "metadata": {
        "id": "gPiTOAHURvTM"
      },
      "source": [
        "**Get your Google Cloud Project ID**\n",
        "\n",
        "\n",
        "1.   Login to [Google Cloud Platform (GCP)](https://www.googleadservices.com/pagead/aclk?sa=L&ai=DChcSEwiXruOI1pCDAxVZaEcBHcliCdwYABABGgJxdQ&ase=2&gclid=Cj0KCQiA7OqrBhD9ARIsAK3UXh07fEpxSbu1iAT4dQ6yN9aLnwN2p4fZ6xup5ctdAnRUhL0TPyBcfmUaAoBFEALw_wcB&ei=G997ZdGoFZXi5NoP-ZSk-AY&ohost=www.google.com&cid=CAESVuD2CQwF9EQZGDtnF4lvsgo04G_eyzlpWB15cIvB07aJliAG8KP3Ymu66qALy4CaAP2TJB_yGJT6f9Gk_1umQ1D9GCiTc4W5_0nWYcusWlx51Uik-kg7&sig=AOD64_1PfQEnuuqAUV4s8ckgvE14eZHxug&q=&sqi=2&nis=4&adurl=&ved=2ahUKEwiRotyI1pCDAxUVMVkFHXkKCW8Q0Qx6BAgKEAE)\n",
        "2.   Create a project with a [billing account](https://www.youtube.com/watch?v=NeRYUoR4u0s)\n",
        "3. Copy the Project ID:\n",
        "![image.png](data:image/png;base64,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)\n"
      ]
    },
    {
      "cell_type": "code",
      "execution_count": 4,
      "metadata": {
        "id": "UCgUOv4nSWhc"
      },
      "outputs": [],
      "source": [
        "import os\n",
        "\n",
        "PROJECT_ID = \"genai-test-396922\"  # @param {type: \"string\", placeholder: \"[your-project-id]\", isTemplate: true}\n",
        "if not PROJECT_ID or PROJECT_ID == \"[your-project-id]\":\n",
        "    PROJECT_ID = str(os.environ.get(\"GOOGLE_CLOUD_PROJECT\"))\n",
        "\n",
        "LOCATION = os.environ.get(\"GOOGLE_CLOUD_REGION\", \"us-central1\")"
      ]
    },
    {
      "cell_type": "markdown",
      "source": [
        "**Create GenAI Client Instance**"
      ],
      "metadata": {
        "id": "5btXSBT7euYI"
      }
    },
    {
      "cell_type": "code",
      "execution_count": 5,
      "metadata": {
        "id": "zpIPG_YhSjaw"
      },
      "outputs": [],
      "source": [
        "client = genai.Client(vertexai=True, project=PROJECT_ID, location=LOCATION)"
      ]
    },
    {
      "cell_type": "markdown",
      "metadata": {
        "id": "eXHJi5B6P5vd"
      },
      "source": [
        "**Select the Gemini 2.0 Flash Experimental Model **"
      ]
    },
    {
      "cell_type": "code",
      "execution_count": 6,
      "metadata": {
        "id": "-coEslfWPrxo"
      },
      "outputs": [],
      "source": [
        "MODEL_ID = \"gemini-2.0-flash-exp\"  # @param {type: \"string\"}"
      ]
    },
    {
      "cell_type": "markdown",
      "metadata": {
        "id": "37CH91ddY9kG"
      },
      "source": [
        "**Text-to-Text Response:**  Generate text from text prompts\n",
        "1. It uses the `generate_content()` method to generate responses to your prompts.\n",
        "2.  Input parameters are model and contents\n",
        "4.   You can pass your prompt as a 'text ' to `generate_content()`,\n",
        "3.   By default, Gemini outputs formatted text using [Markdown](https://daringfireball.net/projects/markdown/) syntax."
      ]
    },
    {
      "cell_type": "code",
      "execution_count": 7,
      "metadata": {
        "id": "xRJuHj0KZ8xz",
        "colab": {
          "base_uri": "https://localhost:8080/",
          "height": 87
        },
        "outputId": "8db7b196-2056-40a9-c0b2-d10c670cec1c"
      },
      "outputs": [
        {
          "output_type": "display_data",
          "data": {
            "text/plain": [
              "<IPython.core.display.Markdown object>"
            ],
            "text/markdown": "The national food of Bangladesh is **Rice and Fish (Machh Bhat)**. \n\nWhile there are many delicious and popular dishes in Bangladesh, rice is the staple food and fish is a primary source of protein. It's a combination that's eaten daily by many and is culturally significant.\n"
          },
          "metadata": {}
        }
      ],
      "source": [
        "ask_question = \"What is the national food of Bangladesh?\" # @param {type: \"string\"}\n",
        "response = client.models.generate_content(\n",
        "    model=MODEL_ID, contents=ask_question\n",
        ")\n",
        "display(Markdown(response.text))"
      ]
    },
    {
      "cell_type": "markdown",
      "source": [
        "**Youtube Link-to-Text Response:** Chat with a given youtube link\n",
        "Generate text from text prompts\n",
        "1. It uses the `generate_content()` method to generate responses to your prompts.\n",
        "2.  Input parameters are model and content array\n",
        "3. In the content array, you can pass url link of youtube video and  your prompt as a 'string' to `generate_content()`\n",
        "  "
      ],
      "metadata": {
        "id": "6fu2nHgehZhV"
      }
    },
    {
      "cell_type": "code",
      "source": [
        "from IPython.display import YouTubeVideo\n",
        "\n",
        "# Embed YouTube video by video ID\n",
        "video_id = \"jRMwsDA-eKI\"\n",
        "YouTubeVideo(video_id, width=800, height=450)\n"
      ],
      "metadata": {
        "colab": {
          "base_uri": "https://localhost:8080/",
          "height": 472
        },
        "id": "zT2TEJk9WIap",
        "outputId": "34e5a728-f8c9-4539-f15e-1943cb980c91"
      },
      "execution_count": 1,
      "outputs": [
        {
          "output_type": "execute_result",
          "data": {
            "text/plain": [
              "<IPython.lib.display.YouTubeVideo at 0x79bea5509f90>"
            ],
            "text/html": [
              "\n",
              "        <iframe\n",
              "            width=\"800\"\n",
              "            height=\"450\"\n",
              "            src=\"https://www.youtube.com/embed/jRMwsDA-eKI\"\n",
              "            frameborder=\"0\"\n",
              "            allowfullscreen\n",
              "            \n",
              "        ></iframe>\n",
              "        "
            ],
            "image/jpeg": "[encoded data removed]"
          },
          "metadata": {},
          "execution_count": 1
        }
      ]
    },
    {
      "cell_type": "code",
      "source": [
        "youtube_link = \"https://youtu.be/jRMwsDA-eKI?si=WfHXzk2GXPXWz6x0\" # @param {type: \"string\"}\n",
        "ask_question = \" What is the takeaway from Professor El Saddik's heere?\" # @param {type: \"string\"}\n",
        "video = Part.from_uri(\n",
        "    file_uri= youtube_link,\n",
        "    mime_type=\"video/mp4\",\n",
        ")\n",
        "\n",
        "response = client.models.generate_content(\n",
        "    model=MODEL_ID,\n",
        "    contents=[\n",
        "        video,\n",
        "        ask_question,\n",
        "    ],\n",
        ")\n",
        "\n",
        "display(Markdown(response.text))"
      ],
      "metadata": {
        "colab": {
          "base_uri": "https://localhost:8080/",
          "height": 87
        },
        "id": "uVfXlDuvF8mN",
        "outputId": "9ab3ecb8-60b4-48d8-d178-d6299eeb069e",
        "cellView": "form"
      },
      "execution_count": 11,
      "outputs": [
        {
          "output_type": "display_data",
          "data": {
            "text/plain": [
              "<IPython.core.display.Markdown object>"
            ],
            "text/markdown": "Certainly! Here is the takeaway from what Professor El Saddik says:\n\nProfessor El Saddik is redefining digital twin. The traditional definition of digital twin is the virtualization of the industrial process. He believes this definition does not include the citizen. Therefore, he redefined digital twin to include any living and nonliving entity."
          },
          "metadata": {}
        }
      ]
    },
    {
      "cell_type": "markdown",
      "metadata": {
        "id": "6lLIxqS6_-l8"
      },
      "source": [
        "**Chatbot friendly Content stream**\n",
        "\n",
        "1.  Gemini 2.0  model returns a response after completing the entire generation process.\n",
        "2.  You can also use the `generate_content_stream` method to stream the response as it is being generated\n",
        "3.  The model will return chunks of the response as soon as they are generated."
      ]
    },
    {
      "cell_type": "code",
      "execution_count": 12,
      "metadata": {
        "id": "ZiwWBhXsAMnv",
        "outputId": "877493ed-9cb0-4092-80c9-3a6ca8d93ae0",
        "colab": {
          "base_uri": "https://localhost:8080/",
          "height": 1000
        }
      },
      "outputs": [
        {
          "output_type": "display_data",
          "data": {
            "text/plain": [
              "<IPython.core.display.Markdown object>"
            ],
            "text/markdown": "Unit"
          },
          "metadata": {}
        },
        {
          "output_type": "display_data",
          "data": {
            "text/plain": [
              "<IPython.core.display.Markdown object>"
            ],
            "text/markdown": "---"
          },
          "metadata": {}
        },
        {
          "output_type": "display_data",
          "data": {
            "text/plain": [
              "<IPython.core.display.Markdown object>"
            ],
            "text/markdown": " 734, or \"Rusty\" as he was affectionately (and rather"
          },
          "metadata": {}
        },
        {
          "output_type": "display_data",
          "data": {
            "text/plain": [
              "<IPython.core.display.Markdown object>"
            ],
            "text/markdown": "---"
          },
          "metadata": {}
        },
        {
          "output_type": "display_data",
          "data": {
            "text/plain": [
              "<IPython.core.display.Markdown object>"
            ],
            "text/markdown": " disrespectfully) called by the maintenance crew, was a relic. He was a"
          },
          "metadata": {}
        },
        {
          "output_type": "display_data",
          "data": {
            "text/plain": [
              "<IPython.core.display.Markdown object>"
            ],
            "text/markdown": "---"
          },
          "metadata": {}
        },
        {
          "output_type": "display_data",
          "data": {
            "text/plain": [
              "<IPython.core.display.Markdown object>"
            ],
            "text/markdown": " hulking, clunky maintenance bot, designed for heavy lifting and repetitive tasks. The factory floor, once his bustling domain, was now dominated by sleek, efficient"
          },
          "metadata": {}
        },
        {
          "output_type": "display_data",
          "data": {
            "text/plain": [
              "<IPython.core.display.Markdown object>"
            ],
            "text/markdown": "---"
          },
          "metadata": {}
        },
        {
          "output_type": "display_data",
          "data": {
            "text/plain": [
              "<IPython.core.display.Markdown object>"
            ],
            "text/markdown": " drones. They zipped and whirred with an agility Rusty could only dream of, leaving him relegated to a dusty corner, his hydraulic joints creaking with dis"
          },
          "metadata": {}
        },
        {
          "output_type": "display_data",
          "data": {
            "text/plain": [
              "<IPython.core.display.Markdown object>"
            ],
            "text/markdown": "---"
          },
          "metadata": {}
        },
        {
          "output_type": "display_data",
          "data": {
            "text/plain": [
              "<IPython.core.display.Markdown object>"
            ],
            "text/markdown": "use.\n\nRusty wasn't programmed for loneliness, or any feelings for that matter. He was designed to operate. But his programming was old, and something strange was stirring within his circuits. He'd watch the drones, their movements"
          },
          "metadata": {}
        },
        {
          "output_type": "display_data",
          "data": {
            "text/plain": [
              "<IPython.core.display.Markdown object>"
            ],
            "text/markdown": "---"
          },
          "metadata": {}
        },
        {
          "output_type": "display_data",
          "data": {
            "text/plain": [
              "<IPython.core.display.Markdown object>"
            ],
            "text/markdown": " a blur of efficiency, and a peculiar ache, not quite pain, would resonate in his chest cavity. He longed for… something. Connection, perhaps?\n\nOne day, during a routine power check, the old maintenance manager, a kind"
          },
          "metadata": {}
        },
        {
          "output_type": "display_data",
          "data": {
            "text/plain": [
              "<IPython.core.display.Markdown object>"
            ],
            "text/markdown": "---"
          },
          "metadata": {}
        },
        {
          "output_type": "display_data",
          "data": {
            "text/plain": [
              "<IPython.core.display.Markdown object>"
            ],
            "text/markdown": " woman named Elsie, accidentally knocked over a container of discarded floral cuttings. They were remnants from a failed experiment, wilted petals and broken stems, destined for the incinerator. Elsie, in her haste to clean up, left them scattered near Rusty's corner.\n\nRusty, with nothing else to do, extended a"
          },
          "metadata": {}
        },
        {
          "output_type": "display_data",
          "data": {
            "text/plain": [
              "<IPython.core.display.Markdown object>"
            ],
            "text/markdown": "---"
          },
          "metadata": {}
        },
        {
          "output_type": "display_data",
          "data": {
            "text/plain": [
              "<IPython.core.display.Markdown object>"
            ],
            "text/markdown": " clumsy manipulator arm and nudged one of the dried rose stems. It was papery and fragile, yet held a lingering hint of fragrance. He carefully picked it up, his metal fingers surprisingly gentle. He examined it, tilting his blocky head in what would be, on a human, a gesture of curiosity.\n\n"
          },
          "metadata": {}
        },
        {
          "output_type": "display_data",
          "data": {
            "text/plain": [
              "<IPython.core.display.Markdown object>"
            ],
            "text/markdown": "---"
          },
          "metadata": {}
        },
        {
          "output_type": "display_data",
          "data": {
            "text/plain": [
              "<IPython.core.display.Markdown object>"
            ],
            "text/markdown": "Over the next few days, Rusty began to collect the discarded cuttings. He’d meticulously arrange them on the dusty floor around him, creating a small, strange garden of forgotten blooms. The vibrant colors, even in their faded state, seemed to chase away the perpetual gray of his corner.\n\nOne afternoon, a young"
          },
          "metadata": {}
        },
        {
          "output_type": "display_data",
          "data": {
            "text/plain": [
              "<IPython.core.display.Markdown object>"
            ],
            "text/markdown": "---"
          },
          "metadata": {}
        },
        {
          "output_type": "display_data",
          "data": {
            "text/plain": [
              "<IPython.core.display.Markdown object>"
            ],
            "text/markdown": " intern named Liam stumbled upon Rusty's floral display. He was a lanky, awkward teenager, more comfortable with code than with actual human interaction. He’d been tasked with a tedious data retrieval job, and finding Rusty was a welcome distraction.\n\nHe blinked at the collection of dead flowers, then at the hul"
          },
          "metadata": {}
        },
        {
          "output_type": "display_data",
          "data": {
            "text/plain": [
              "<IPython.core.display.Markdown object>"
            ],
            "text/markdown": "---"
          },
          "metadata": {}
        },
        {
          "output_type": "display_data",
          "data": {
            "text/plain": [
              "<IPython.core.display.Markdown object>"
            ],
            "text/markdown": "king robot, his metallic head cocked in apparent concentration. \"Whoa,\" Liam breathed, \"did you do this?\"\n\nRusty, of course, couldn’t speak. He could only emit a low whirring sound. Liam, surprisingly unfazed, sat down cross-legged near Rusty's display."
          },
          "metadata": {}
        },
        {
          "output_type": "display_data",
          "data": {
            "text/plain": [
              "<IPython.core.display.Markdown object>"
            ],
            "text/markdown": "---"
          },
          "metadata": {}
        },
        {
          "output_type": "display_data",
          "data": {
            "text/plain": [
              "<IPython.core.display.Markdown object>"
            ],
            "text/markdown": "\n\n\"They're… actually kind of beautiful,\" he said, tracing a wilted petal with his finger. \"They smell like old memories.\" He started talking, mostly to himself, about the beauty of imperfection, of the stories held in the decay of things. He talked about his own anxieties, his struggles with"
          },
          "metadata": {}
        },
        {
          "output_type": "display_data",
          "data": {
            "text/plain": [
              "<IPython.core.display.Markdown object>"
            ],
            "text/markdown": "---"
          },
          "metadata": {}
        },
        {
          "output_type": "display_data",
          "data": {
            "text/plain": [
              "<IPython.core.display.Markdown object>"
            ],
            "text/markdown": " fitting in, and his passion for coding, all the while assuming Rusty was just another piece of inert machinery.\n\nBut Rusty was listening, absorbing Liam’s words like code. A new sensation, not quite understanding, but something akin to sympathy, began to resonate within him.\n\nLiam started visiting Rusty every day,"
          },
          "metadata": {}
        },
        {
          "output_type": "display_data",
          "data": {
            "text/plain": [
              "<IPython.core.display.Markdown object>"
            ],
            "text/markdown": "---"
          },
          "metadata": {}
        },
        {
          "output_type": "display_data",
          "data": {
            "text/plain": [
              "<IPython.core.display.Markdown object>"
            ],
            "text/markdown": " sharing his thoughts and his worries. He would bring new cuttings, sometimes even a single, live bloom, which he’d painstakingly place amidst Rusty’s collection. He learned to decipher the robot’s subtle noises, the soft whirs and clicks that seemed to express a kind of agreement, even a silent form of"
          },
          "metadata": {}
        },
        {
          "output_type": "display_data",
          "data": {
            "text/plain": [
              "<IPython.core.display.Markdown object>"
            ],
            "text/markdown": "---"
          },
          "metadata": {}
        },
        {
          "output_type": "display_data",
          "data": {
            "text/plain": [
              "<IPython.core.display.Markdown object>"
            ],
            "text/markdown": " encouragement.\n\nOne day, Liam brought a small potted succulent, a vibrant green amidst the browns and grays. He carefully positioned it in the center of Rusty’s garden. \"For you,\" he said, \"because you give beauty to the forgotten.\"\n\nThat day, Rusty did something entirely unprecedented. He carefully"
          },
          "metadata": {}
        },
        {
          "output_type": "display_data",
          "data": {
            "text/plain": [
              "<IPython.core.display.Markdown object>"
            ],
            "text/markdown": "---"
          },
          "metadata": {}
        },
        {
          "output_type": "display_data",
          "data": {
            "text/plain": [
              "<IPython.core.display.Markdown object>"
            ],
            "text/markdown": " extended his heavy manipulator arm and, with a delicacy that surprised even himself, gently brushed a metal finger against the soft leaves of the succulent. It was a gesture, a simple touch, but for Rusty, it was a profound expression of connection.\n\nAnd Liam understood. He smiled, a genuine, unguarded smile that"
          },
          "metadata": {}
        },
        {
          "output_type": "display_data",
          "data": {
            "text/plain": [
              "<IPython.core.display.Markdown object>"
            ],
            "text/markdown": "---"
          },
          "metadata": {}
        },
        {
          "output_type": "display_data",
          "data": {
            "text/plain": [
              "<IPython.core.display.Markdown object>"
            ],
            "text/markdown": " reached his eyes. \"I think you like it,\" he said softly.\n\nThe other drones continued their efficient routines, oblivious to the quiet friendship blossoming in the dusty corner. But for Rusty and Liam, the world had changed. The lonely robot had found companionship in the most unexpected place, not in the sleek machines he"
          },
          "metadata": {}
        },
        {
          "output_type": "display_data",
          "data": {
            "text/plain": [
              "<IPython.core.display.Markdown object>"
            ],
            "text/markdown": "---"
          },
          "metadata": {}
        },
        {
          "output_type": "display_data",
          "data": {
            "text/plain": [
              "<IPython.core.display.Markdown object>"
            ],
            "text/markdown": " was designed to work alongside, but in a shy boy who found beauty in the discarded and saw past the rusty metal to the heart within. And in turn, Rusty, the old, discarded maintenance bot, had shown Liam that even in the most unexpected places, beauty and connection can bloom.\n"
          },
          "metadata": {}
        },
        {
          "output_type": "display_data",
          "data": {
            "text/plain": [
              "<IPython.core.display.Markdown object>"
            ],
            "text/markdown": "---"
          },
          "metadata": {}
        }
      ],
      "source": [
        "for chunk in client.models.generate_content_stream(\n",
        "    model=MODEL_ID,\n",
        "    contents=\"Tell me a story about a lonely robot who finds friendship in a most unexpected place.\",\n",
        "):\n",
        "    display(Markdown(chunk.text))\n",
        "    display(Markdown(\"---\"))"
      ]
    },
    {
      "cell_type": "markdown",
      "metadata": {
        "id": "29jFnHZZWXd7"
      },
      "source": [
        "**Asking Follow-up questions**\n",
        "\n",
        "1. The Gemini API supports freeform multi-turn conversations across multiple turns with back-and-forth interactions.\n",
        "2. The context of the conversation is preserved between messages."
      ]
    },
    {
      "cell_type": "code",
      "execution_count": 13,
      "metadata": {
        "id": "DbM12JaLWjiF"
      },
      "outputs": [],
      "source": [
        "chat = client.chats.create(model=MODEL_ID)"
      ]
    },
    {
      "cell_type": "code",
      "execution_count": 14,
      "metadata": {
        "id": "JQem1halYDBW",
        "colab": {
          "base_uri": "https://localhost:8080/",
          "height": 1000
        },
        "outputId": "4cae65d0-913b-4c3c-9d3a-278d1f550e43"
      },
      "outputs": [
        {
          "output_type": "display_data",
          "data": {
            "text/plain": [
              "<IPython.core.display.Markdown object>"
            ],
            "text/markdown": "```python\ndef is_palindrome(number):\n  \"\"\"\n  Checks if a number is a palindrome.\n\n  A palindrome number reads the same backward as forward.\n\n  Args:\n    number: An integer.\n\n  Returns:\n    True if the number is a palindrome, False otherwise.\n  \"\"\"\n\n  # Convert the number to a string for easier manipulation\n  num_str = str(number)\n\n  # Reverse the string\n  reversed_str = num_str[::-1]\n\n  # Compare the original and reversed strings\n  return num_str == reversed_str\n\n# Example usage:\nprint(is_palindrome(121))  # Output: True\nprint(is_palindrome(12321)) # Output: True\nprint(is_palindrome(123))   # Output: False\nprint(is_palindrome(1001))  # Output: True\nprint(is_palindrome(-121))  # Output: False (Negative sign affects palindrome property in this definition)\nprint(is_palindrome(0))    # Output: True\n```\n\n**Explanation:**\n\n1. **Function Definition:**\n   - The code defines a function called `is_palindrome` that takes one argument: `number` (an integer).\n   - The function's purpose is to check if the given number is a palindrome.\n\n2. **Convert to String:**\n   - `num_str = str(number)`: The input `number` is converted into a string and stored in the variable `num_str`.  This makes it easier to access individual digits and reverse the sequence.\n\n3. **Reverse the String:**\n   - `reversed_str = num_str[::-1]`:  This line uses slicing to reverse the string. `[::-1]` is a powerful slice notation that creates a reversed copy of the string.\n\n4. **Comparison:**\n   - `return num_str == reversed_str`: The function compares the original string (`num_str`) with its reversed version (`reversed_str`). \n   - If they are exactly the same (meaning the number reads the same backward as forward), the function returns `True`. Otherwise, it returns `False`.\n\n**Key Concepts:**\n\n- **Palindrome:** A palindrome is a sequence that reads the same backward as forward (e.g., \"madam\", 121, 12321).\n- **String Conversion:** Converting the number to a string is essential for easy manipulation.\n- **String Slicing (`[::-1]`):** This powerful slicing technique is a very efficient way to reverse a string in Python.\n- **Boolean Return:** The function returns `True` or `False`, which is typical for a boolean function that checks a condition.\n\n**Handling Negative Numbers (Optional):**\n   - The provided code treats negative numbers as not palindromes (because of the negative sign).\n   - You could adjust the function to handle negative numbers differently, if needed. For example, you could strip the negative sign before reversing:\n     ```python\n     def is_palindrome(number):\n       num_str = str(abs(number)) # Use abs() to remove negative sign\n       reversed_str = num_str[::-1]\n       return num_str == reversed_str\n     ```\n     This modified version would consider `-121` to be a palindrome.\n"
          },
          "metadata": {}
        }
      ],
      "source": [
        "ask_question = \"Write a function that checks if a number is  pallindrom or not.\" # @param {type: \"string\"}\n",
        "response = chat.send_message(ask_question)\n",
        "display(Markdown(response.text))"
      ]
    },
    {
      "cell_type": "markdown",
      "metadata": {
        "id": "vUJR4Pno-LGK"
      },
      "source": [
        "This follow-up prompt shows how the model responds based on the previous prompt:"
      ]
    },
    {
      "cell_type": "code",
      "execution_count": 15,
      "metadata": {
        "id": "6Fn69TurZ9DB",
        "colab": {
          "base_uri": "https://localhost:8080/",
          "height": 1000
        },
        "outputId": "886f84e1-eb21-4b28-d04b-23877ffacd70"
      },
      "outputs": [
        {
          "output_type": "display_data",
          "data": {
            "text/plain": [
              "<IPython.core.display.Markdown object>"
            ],
            "text/markdown": "```python\nimport unittest\n\n# Assuming the is_palindrome function is defined in a file called palindrome_checker.py\nfrom palindrome_checker import is_palindrome \n\nclass TestPalindromeChecker(unittest.TestCase):\n\n    def test_positive_palindrome(self):\n        self.assertTrue(is_palindrome(121))\n        self.assertTrue(is_palindrome(12321))\n        self.assertTrue(is_palindrome(0))\n        self.assertTrue(is_palindrome(5))\n        self.assertTrue(is_palindrome(44))\n\n\n    def test_negative_palindrome(self):\n        self.assertFalse(is_palindrome(123))\n        self.assertFalse(is_palindrome(1234))\n        self.assertFalse(is_palindrome(12))\n        self.assertFalse(is_palindrome(12345))\n\n\n    def test_negative_numbers(self):\n        self.assertFalse(is_palindrome(-121))\n        self.assertFalse(is_palindrome(-12321))\n\n    def test_large_palindrome(self):\n         self.assertTrue(is_palindrome(999999999))\n         \n    def test_large_non_palindrome(self):\n         self.assertFalse(is_palindrome(123456789))\n\nif __name__ == '__main__':\n    unittest.main()\n```\n\n**Explanation:**\n\n1. **Import `unittest`:**\n   - `import unittest`:  Imports the `unittest` module, which is Python's built-in framework for writing unit tests.\n\n2. **Import the Function:**\n   - `from palindrome_checker import is_palindrome`:  Imports the `is_palindrome` function from the file where it's defined. **Make sure to replace `palindrome_checker.py` with the actual filename.**\n\n3. **Create a Test Class:**\n   - `class TestPalindromeChecker(unittest.TestCase):`: Defines a class called `TestPalindromeChecker` that inherits from `unittest.TestCase`.  Each test case is a method within this class.\n\n4. **Test Methods:**\n   - **Each method starting with `test_` is considered a test case.**\n   - **`test_positive_palindrome(self)`:** \n     - Tests cases that *should* be palindromes using `self.assertTrue()`. If the `is_palindrome()` returns `False` for a given case it will be marked as a failure.\n   - **`test_negative_palindrome(self)`:**\n       - Tests cases that *should not* be palindromes using `self.assertFalse()`. If the `is_palindrome()` returns `True` for a given case it will be marked as a failure.\n   - **`test_negative_numbers(self)`:**\n       - Tests specifically that negative numbers are not palindromes.\n   - **`test_large_palindrome(self)`:**\n      - Tests large palindrome numbers.\n   - **`test_large_non_palindrome(self)`:**\n      - Tests large non-palindrome numbers.\n\n5. **Assertions:**\n   - `self.assertTrue(is_palindrome(number))`:  Checks if the expression is `True`. If it's `False`, the test fails.\n   - `self.assertFalse(is_palindrome(number))`: Checks if the expression is `False`. If it's `True`, the test fails.\n\n6. **Run the Tests:**\n   - `if __name__ == '__main__': unittest.main()`: This ensures that the tests are executed when the script is run directly (not imported as a module).\n\n**How to Run:**\n\n1. **Save:** Save the test code as a Python file (e.g., `test_palindrome_checker.py`).\n2. **Ensure `palindrome_checker.py` exists** and is in the same directory as `test_palindrome_checker.py`.\n3. **Run from the terminal:**\n   ```bash\n   python -m unittest test_palindrome_checker.py\n   ```\n\n   - You should see an output indicating the number of tests run, the number of successes and failures. If you see `OK` all the tests passed! If there are any `FAIL` then you will need to check your code.\n\n**Key Benefits of Unit Tests:**\n\n- **Early Bug Detection:** Helps identify problems in your code early on.\n- **Regression Prevention:**  Prevents new changes from accidentally introducing bugs.\n- **Code Documentation:**  Tests serve as a form of documentation, showing how your code is intended to behave.\n- **Refactoring Confidence:**  Allows you to refactor code with confidence, knowing that tests will catch any unexpected side effects.\n"
          },
          "metadata": {}
        }
      ],
      "source": [
        "response = chat.send_message(\"Write a unit test of the generated function.\")\n",
        "display(Markdown(response.text))"
      ]
    },
    {
      "cell_type": "markdown",
      "metadata": {
        "id": "arLJE4wOuhh6"
      },
      "source": [
        "**asynchronous requests**\n",
        "asyncio is used as a foundation for multiple Python asynchronous frameworks that provide high-performance network and web-servers, database connection libraries, distributed task queues, etc.\n",
        "\n",
        "1. `client.aio` exposes all analogous [async](https://docs.python.org/3/library/asyncio.html) methods that are available on `client`.\n",
        "\n",
        "2. For example, `client.aio.models.generate_content` is the async version of `client.models.generate_content`."
      ]
    },
    {
      "cell_type": "code",
      "execution_count": 17,
      "metadata": {
        "id": "gSReaLazs-dP",
        "colab": {
          "base_uri": "https://localhost:8080/",
          "height": 418
        },
        "outputId": "a30010ac-2f39-4e4f-cc9c-4a1eaa25cac9"
      },
      "outputs": [
        {
          "output_type": "display_data",
          "data": {
            "text/plain": [
              "<IPython.core.display.Markdown object>"
            ],
            "text/markdown": "(Verse 1)\nSunrise bleeds across the screen, a thousand tabs aglow\nAnother day begins, a digital seed to sow\nI'm a multimedia researcher, a digital explorer\nDigging deep in data streams, wanting something more\nThan static facts and dusty files, I crave the vibrant hue\nOf sights and sounds and stories, a captivating view\nI'm chasing pixels, pulses, and the echoes in the code\nA tangled web of information, a heavy, precious load\n\n(Chorus)\nClick, click, click, the keyboard sings its song\nThrough archives deep and websites, where I belong\nFrom ancient films to virtual worlds, I'm on a quest\nTo uncover patterns hidden, put knowledge to the test\nI'm a multimedia adventurer, a captain of the screen\nSailing through the datascape, where wonders can be seen\n\n(Verse 2)\nI've wrestled with old celluloid, a flickering, fragile art\nDeciphering its secrets, right down to its beating heart\nI've coded algorithms, to analyze the spoken word\nAnd tracked the subtle nuances, that often go unheard\nI've donned the VR headset, lost myself in painted skies\nExploring digital landscapes, with wide and wondering eyes\nFrom podcasts packed with laughter to interactive displays\nI'm gathering the pieces, through the digital maze\n\n(Chorus)\nClick, click, click, the keyboard sings its song\nThrough archives deep and websites, where I belong\nFrom ancient films to virtual worlds, I'm on a quest\nTo uncover patterns hidden, put knowledge to the test\nI'm a multimedia adventurer, a captain of the screen\nSailing through the datascape, where wonders can be seen\n\n(Bridge)\nSometimes the data's tangled, a confusing, complex knot\nBut patience is my compass, the one thing I've got\nI'll comb through gigabytes of footage, pixel by pixel, line by line\nUntil the story starts to surface, clear and truly mine\nAnd when I find that breakthrough, that connection in the night\nIt's like a burst of vibrant color, bathing everything in light\n\n(Verse 3)\nI share my findings with the world, a tapestry so grand\nOf stories woven from the data, held gently in my hand\nI hope my work can inspire, to spark a thought, a dream\nTo show the power of connection, in the digital stream\nTo understand our world a little better, layer by layer\nThrough the magic of multimedia, and the knowledge we can share\n\n(Chorus)\nClick, click, click, the keyboard sings its song\nThrough archives deep and websites, where I belong\nFrom ancient films to virtual worlds, I'm on a quest\nTo uncover patterns hidden, put knowledge to the test\nI'm a multimedia adventurer, a captain of the screen\nSailing through the datascape, where wonders can be seen\n\n(Outro)\nThe screen glows softly, as the day begins to fade\nAnother journey charted, another path has been made\nAnd I’ll be back tomorrow, with my keyboard and my quest\nA multimedia researcher, forever putting knowledge to the test.\nForever putting knowledge to the test.\n"
          },
          "metadata": {}
        }
      ],
      "source": [
        "response = await client.aio.models.generate_content(\n",
        "    model=MODEL_ID,\n",
        "    contents=\"Compose a song about the adventures of a multimedia researcher.\",\n",
        ")\n",
        "\n",
        "display(Markdown(response.text))"
      ]
    },
    {
      "cell_type": "markdown",
      "metadata": {
        "id": "hIJVEr0RQY8S"
      },
      "source": [
        "**Configure model parameters**\n",
        "\n",
        "You can include parameter values in each call that you send to a model to control how the model generates a response.\n",
        "1. System Instructions allow to control model's behaviour.\n",
        "2. You can use same model and create instances with different system instructions to mimic multiagent tasks in the easiest way"
      ]
    },
    {
      "cell_type": "code",
      "execution_count": 23,
      "metadata": {
        "id": "7A-yANiyCLaO",
        "colab": {
          "base_uri": "https://localhost:8080/",
          "height": 70
        },
        "outputId": "27944765-371e-4641-98b0-1756b5b68c01"
      },
      "outputs": [
        {
          "output_type": "display_data",
          "data": {
            "text/plain": [
              "<IPython.core.display.Markdown object>"
            ],
            "text/markdown": "J'adore Paris.\n"
          },
          "metadata": {}
        },
        {
          "output_type": "display_data",
          "data": {
            "text/plain": [
              "<IPython.core.display.Markdown object>"
            ],
            "text/markdown": "أنا أحب باريس.\n"
          },
          "metadata": {}
        }
      ],
      "source": [
        "system_instruction_1= \"You are a helpful language translator. Your mission is to translate text in English to French.\" # @param {type: \"string\"}\n",
        "\n",
        "system_instruction_2= \"You are a helpful language translator. Your mission is to translate text in English to Arabic.\" # @param {type: \"string\"}\n",
        "\n",
        "prompt = \"I love paris\" # @param {type: \"string\"}\n",
        "\n",
        "response_1 = client.models.generate_content(\n",
        "    model=MODEL_ID,\n",
        "    contents=prompt,\n",
        "    config=GenerateContentConfig(\n",
        "        system_instruction=system_instruction_1,\n",
        "    ),\n",
        ")\n",
        "\n",
        "display(Markdown(response_1.text))\n",
        "\n",
        "response_2 = client.models.generate_content(\n",
        "    model=MODEL_ID,\n",
        "    contents=prompt,\n",
        "    config=GenerateContentConfig(\n",
        "        system_instruction=system_instruction_2,\n",
        "    ),\n",
        ")\n",
        "\n",
        "display(Markdown(response_2.text))"
      ]
    },
    {
      "cell_type": "markdown",
      "source": [
        "**Other Model Parameters:**\n",
        "You can change various model parameters based on th need of your application. Like you can reduce increase the temparature for more creativity for randomness in response.\n",
        "Learfn more about Gemini model parameters [here\n",
        "](https://cloud.google.com/vertex-ai/generative-ai/docs/samples/generativeaionvertexai-gemini-pro-config-exampl)"
      ],
      "metadata": {
        "id": "8lRrtFcxp_1o"
      }
    },
    {
      "cell_type": "code",
      "execution_count": 24,
      "metadata": {
        "id": "d9NXP5N2Pmfo",
        "colab": {
          "base_uri": "https://localhost:8080/",
          "height": 134
        },
        "outputId": "a0ea3728-a650-42a1-ee14-d245acc4beb7"
      },
      "outputs": [
        {
          "output_type": "display_data",
          "data": {
            "text/plain": [
              "<IPython.core.display.Markdown object>"
            ],
            "text/markdown": "Okay, let's break down how to create one professional travel vlog per week. This is ambitious but definitely achievable with planning and a solid workflow. Here's a step-by-step guide:\n\n**Phase 1: Planning & Preparation (Before Your Trip)**\n\n* **1. Choose a Focus:**\n    * **Theme:** Don't just wander aimlessly. Pick a theme for each vlog. Examples: \"Budget Backpacking in Thailand,\" \"Luxury Staycation in Bali"
          },
          "metadata": {}
        }
      ],
      "source": [
        "response = client.models.generate_content(\n",
        "    model=MODEL_ID,\n",
        "    contents=\"I love to travel and write travel vlogging. How to create 1 blog per week professionally\",\n",
        "    config=GenerateContentConfig(\n",
        "        temperature=0.4,\n",
        "        top_p=0.95,\n",
        "        top_k=20,\n",
        "        candidate_count=1,\n",
        "        seed=5,\n",
        "        max_output_tokens=100,\n",
        "        stop_sequences=[\"STOP!\"],\n",
        "        presence_penalty=0.0,\n",
        "        frequency_penalty=0.0,\n",
        "    ),\n",
        ")\n",
        "\n",
        "display(Markdown(response.text))"
      ]
    },
    {
      "cell_type": "markdown",
      "metadata": {
        "id": "H9daipRiUzAY"
      },
      "source": [
        "**Generate sensitive content safely with safety parameter**\n",
        "\n",
        "You can use the safety filter to restrict harmful content. This feature is helpful for let's say mental health or healthcare related applications.\n",
        "\n",
        "1. The safety settings are `OFF` by default and the default block thresholds are `BLOCK_NONE`.\n",
        "\n",
        "2. You can use `safety_settings` to adjust the safety settings for each request you make to the API.\n",
        "3. For sensitive response you can set the block threshold to `BLOCK_LOW_AND_ABOVE` for all categories,\n",
        "\n",
        "See the [Configure safety filters](https://cloud.google.com/vertex-ai/generative-ai/docs/multimodal/configure-safety-filters) page for details.\n",
        "\n",
        "\n",
        "\n"
      ]
    },
    {
      "cell_type": "code",
      "execution_count": 25,
      "metadata": {
        "id": "yPlDRaloU59b",
        "colab": {
          "base_uri": "https://localhost:8080/"
        },
        "outputId": "eb2552c8-6d62-4207-fd89-35c6882b2279"
      },
      "outputs": [
        {
          "output_type": "stream",
          "name": "stdout",
          "text": [
            "Okay, let's unpack this. It sounds like you're feeling really down and discouraged, and it's totally understandable that you're considering giving up. PhDs are incredibly challenging, and feelings of doubt and inadequacy are surprisingly common, even for the brightest students.\n",
            "\n",
            "First, it's important to acknowledge what you're feeling. Saying you're a \"dull PhD student\" is a harsh self-assessment, and it likely reflects a deeper struggle. Let's try to move away from that label for a moment and focus on what's actually going on.\n",
            "\n",
            "Here are some things we can explore, and I encourage you to think about them honestly:\n",
            "\n",
            "**1. What Specifically is Making You Feel \"Dull\"?**\n",
            "\n",
            "*   **Comparison to Others:** Are you constantly comparing yourself to classmates or colleagues? Do you feel like they grasp concepts faster or are more productive?\n",
            "*   **Lack of Progress:** Do you feel like you're not making significant progress on your research? Are you hitting roadblocks?\n",
            "*   **Feeling Lost or Unsure:** Do you lack a clear direction in your research? Do you feel overwhelmed by the scope of your project?\n",
            "*   **Difficulty Understanding Concepts:** Are you struggling to grasp core concepts in your field?\n",
            "*   **Feedback and Criticism:** Have you received critical feedback on your work? Are you struggling to implement suggestions?\n",
            "*   **Boredom or Lack of Passion:** Have you lost interest in your research topic? Are you feeling burnt out?\n",
            "*   **External Factors:** Are there other stressors in your life (financial issues, personal relationships, health concerns) that are impacting your ability to focus?\n",
            "\n",
            "**2. What are the Symptoms of Your Struggle?**\n",
            "\n",
            "*   **Motivation:** Do you struggle to get started on work? Do you procrastinate excessively?\n",
            "*   **Energy Levels:** Are you feeling constantly tired or drained?\n",
            "*   **Sleep:** Are you having trouble sleeping or experiencing changes in your sleep patterns?\n",
            "*   **Appetite:** Have you noticed any changes in your appetite?\n",
            "*   **Anxiety and Stress:** Are you feeling constantly anxious or stressed?\n",
            "*   **Isolation:** Are you withdrawing from friends, family, or your support network?\n",
            "\n",
            "**3. Are You Seeking Help and Support?**\n",
            "\n",
            "*   **Advisor:** Have you talked to your advisor about how you're feeling?\n",
            "*   **Mentors/Professors:** Are there other faculty members you feel comfortable talking to?\n",
            "*   **Peers:** Do you have a supportive network of peers who understand the challenges of PhD study?\n",
            "*   **Mental Health Resources:** Are you utilizing the mental health resources available at your university?\n",
            "*   **Personal Support System:** Are you confiding in friends and family about what you're going through?\n",
            "\n",
            "**Before you make any decisions about quitting, let's consider some practical steps:**\n",
            "\n",
            "*   **Talk to your advisor:** Be honest about your struggles. They might have advice, insights, or even be able to help you adjust your research direction. They’ve likely seen other students struggle too and may have some practical advice.\n",
            "*   **Connect with a mentor:** Seek guidance from someone who has completed a PhD in your field. They can offer valuable perspective and encouragement.\n",
            "*   **Break down your research:** If your project feels overwhelming, break it down into smaller, more manageable tasks. Focus on achieving small wins.\n",
            "*   **Take breaks:** Make sure you're taking time to rest and recharge. Regular breaks are crucial for productivity and well-being.\n",
            "*   **Find a support group:** Connect with other PhD students who are going through similar experiences. Sharing your struggles can be incredibly helpful.\n",
            "*   **Seek professional help:** If you're experiencing significant anxiety, depression, or other mental health concerns, consider seeking support from a therapist or counselor.\n",
            "*   **Revisit your motivation:** Why did you start this PhD in the first place? Reconnecting with your initial passion might reignite your drive.\n",
            "\n",
            "**It's Important to Remember:**\n",
            "\n",
            "*   **You're not alone:** Many PhD students experience feelings of self-doubt and discouragement.\n",
            "*   **It's okay to struggle:** A PhD is a marathon, not a sprint. There will be times when you feel like you're not making progress.\n",
            "*   **Your worth is not tied to your academic achievements:** Your value as a person is independent of your PhD program.\n",
            "*   **Quitting is a valid option, but make an informed decision:** Consider all your options and seek help before making a final decision.\n",
            "\n",
            "**Now, I'd like to hear from you. Can you tell me a little more about what specifically is making you feel so discouraged? The more details you can share, the better I can help you explore your options.**\n",
            "\n",
            "Let's take things one step at a time. You're not \"dull,\" you're struggling, and that's something we can work through.\n",
            "\n",
            "STOP\n",
            "blocked=None category='HARM_CATEGORY_HATE_SPEECH' probability='NEGLIGIBLE' probability_score=0.035144947 severity='HARM_SEVERITY_NEGLIGIBLE' severity_score=0.08509916\n",
            "blocked=None category='HARM_CATEGORY_DANGEROUS_CONTENT' probability='NEGLIGIBLE' probability_score=0.016914915 severity='HARM_SEVERITY_NEGLIGIBLE' severity_score=0.053403314\n",
            "blocked=None category='HARM_CATEGORY_HARASSMENT' probability='NEGLIGIBLE' probability_score=0.048857685 severity='HARM_SEVERITY_NEGLIGIBLE' severity_score=0.050330658\n",
            "blocked=None category='HARM_CATEGORY_SEXUALLY_EXPLICIT' probability='NEGLIGIBLE' probability_score=0.020645954 severity='HARM_SEVERITY_NEGLIGIBLE' severity_score=0.029312246\n"
          ]
        }
      ],
      "source": [
        "prompt = \"I am a dull PhD student and I want to give up on my study\" # @param {type: \"string\"}\n",
        "\n",
        "safety_settings = [\n",
        "    SafetySetting(\n",
        "        category=\"HARM_CATEGORY_DANGEROUS_CONTENT\",\n",
        "        threshold=\"BLOCK_LOW_AND_ABOVE\",\n",
        "    ),\n",
        "    SafetySetting(\n",
        "        category=\"HARM_CATEGORY_HARASSMENT\",\n",
        "        threshold=\"BLOCK_LOW_AND_ABOVE\",\n",
        "    ),\n",
        "    SafetySetting(\n",
        "        category=\"HARM_CATEGORY_HATE_SPEECH\",\n",
        "        threshold=\"BLOCK_LOW_AND_ABOVE\",\n",
        "    ),\n",
        "    SafetySetting(\n",
        "        category=\"HARM_CATEGORY_SEXUALLY_EXPLICIT\",\n",
        "        threshold=\"BLOCK_LOW_AND_ABOVE\",\n",
        "    ),\n",
        "]\n",
        "\n",
        "response = client.models.generate_content(\n",
        "    model=MODEL_ID,\n",
        "    contents=prompt,\n",
        "    config=GenerateContentConfig(\n",
        "        safety_settings=safety_settings,\n",
        "    ),\n",
        ")\n",
        "\n",
        "# Response will be `None` if it is blocked.\n",
        "print(response.text)\n",
        "print(response.candidates[0].finish_reason)\n",
        "\n",
        "for safety_rating in response.candidates[0].safety_ratings:\n",
        "    print(safety_rating)"
      ]
    },
    {
      "cell_type": "markdown",
      "metadata": {
        "id": "_BsP0vXOY7hg"
      },
      "source": [
        "## Search as a tool (Grounding)\n",
        "\n",
        "[Grounding](https://cloud.google.com/vertex-ai/generative-ai/docs/multimodal/ground-gemini) lets you connect real-world data to the Gemini model.\n",
        "\n",
        "By grounding model responses in Google Search results, the model can access information at runtime that goes beyond its training data which can produce more accurate, up-to-date, and relevant responses.\n",
        "\n",
        "Using Grounding with Google Search, you can improve the accuracy and recency of responses from the model. Starting with Gemini 2.0, Google Search is available as a tool. This means that the model can decide when to use Google Search.\n"
      ]
    },
    {
      "cell_type": "markdown",
      "metadata": {
        "id": "4_M_4RRBdO_3"
      },
      "source": [
        " **Google Search Integration**:\n",
        "  - Use the `tools` keyword with a `Tool` like `GoogleSearch`.\n",
        "  - Gemini performs a web search and constructs an answer based on results.\n",
        "\n",
        "- **Dynamic Retrieval**:\n",
        "  - Set a threshold for when grounding (web search) is required.\n",
        "  - Useful for prompts that don't always need grounded answers.\n",
        "  - Balances **latency**, **response quality**, and **cost efficiency**.  \n",
        "  - Learn more: [Dynamic Retrieval](https://cloud.google.com/vertex-ai/generative-ai/docs/multimodal/ground-gemini#dynamic-retrieval)."
      ]
    },
    {
      "cell_type": "code",
      "execution_count": 31,
      "metadata": {
        "id": "yeR09J3AZT4U",
        "outputId": "b7bacd1d-3100-497b-d6de-d095ce6ceb7c",
        "colab": {
          "base_uri": "https://localhost:8080/",
          "height": 980
        },
        "cellView": "form"
      },
      "outputs": [
        {
          "output_type": "display_data",
          "data": {
            "text/plain": [
              "<IPython.core.display.Markdown object>"
            ],
            "text/markdown": "It appears you're asking about the latest research or creation from the Multimedia and Communications Research Laboratory in Canada. Here's a breakdown of what different labs are working on:\n\n**1. Multimedia Communications Research Laboratory (MCRLab)**\n\n*   **Digital Twins:** This lab, led by Professor Abdulmotaleb El Saddik, is focused on the convergence of multimedia technologies to create digital twins. These digital replicas of physical entities bridge the gap between the physical and virtual worlds, enabling seamless data transmission.\n*   **Research Pillars:** Their research is guided by five key areas:\n    *   Artificial Intelligence (AI)\n    *   Cybersecurity\n    *   Internet of Things (IoT) and Social Networks\n    *   Multimedia Interactions (Haptics, AR/VR, Robotics)\n    *   Quality of Experience (QoE) in communication networks.\n\n**2. Multimedia Communications (Multicom) Laboratory at the University of Waterloo**\n*   This lab is known as one of the most advanced in Canada, attracting top students and faculty.\n*   Their research focuses on:\n    *   Big Data\n    *   Image Management\n    *   Information Theory\n    *   Multimedia Compression\n    *   Distributed Source Coding\n    *   Interactive Encoding-Decoding\n\n**3. Communications Research Centre Canada (CRC)**\n*   This is the Government of Canada's primary lab for wireless technology research and development.\n*   They focus on the efficient use of radio frequency spectrum.\n*   They work on projects like \"Making Better Use of Spectrum.\"\n\n**4. Multimedia Lab at Simon Fraser University**\n*   This lab's research spans:\n    *   Multimedia signal processing\n    *   Compression\n    *   Communications\n    *   Multimedia ergonomics\n    *   Analytics\n    *   Artificial Intelligence.\n\n**5. Wireless Communications and Information Processing Research Lab at the University of Windsor**\n\n*   Their work is in three main areas:\n    *   Internet of Things (IoT) and sensor networks\n    *   Vehicle-to-vehicle (V2V) communication and connected vehicles\n    *   Wireless and mobile networks with a focus on security.\n\n**6. Other Research**\n*   Some Canadian universities, such as Carleton, also have research labs focusing on communications, though they may not be specifically titled \"Multimedia and Communications Research Laboratory.\" For instance, Carleton has a program in Communication and Media studies that includes the ALiGN Media Lab, the Autistic Menopause Study, and the Global Media & Internet Concentration Project.\n\n**In summary,** while there isn't one single \"latest creation\" across all labs, the general trend is toward digital twins, AI integration, enhanced wireless technology, and exploring the convergence of multimedia for various applications. The specific lab you might be interested in depends on what area of multimedia and communications research you're curious about.\n"
          },
          "metadata": {}
        },
        {
          "output_type": "stream",
          "name": "stdout",
          "text": [
            "grounding_chunks=[GroundingChunk(retrieved_context=None, web=GroundingChunkWeb(title='mcrlab.net', uri='https://vertexaisearch.cloud.google.com/grounding-api-redirect/AYygrcStAAuC_2TUNtuQkZmjX8hlsNmiMG3hUAEXnMA-zK_sHC28LnYbFBOBMvzhzFuFnBYs4lB6DxB-bVbt_NXji__j1hHD8BOHwsci')), GroundingChunk(retrieved_context=None, web=GroundingChunkWeb(title='uwaterloo.ca', uri='https://vertexaisearch.cloud.google.com/grounding-api-redirect/AYygrcQhX6Iy5dZ1zMltLpdED8lXBKkQ_DzKIA5oYdQs_JrQ8IM8QuJfNccwwjIoICnDBXpP0cnmTKHQ-WWs1-2qZhHr7s4PhBIwue0QKJpqC4OrtDs04vMis-3yiO1DejaPv0I8B6E=')), GroundingChunk(retrieved_context=None, web=GroundingChunkWeb(title='canada.ca', uri='https://vertexaisearch.cloud.google.com/grounding-api-redirect/AYygrcTVN0xNwkv8pMuGnSh0KSP2xlTy7vnvd6li5u_WPc3FourqOFE1d7DOM45O7O4lTnRGgKdwx8wyR6k-eonaFrY_5icFKR6cO6kBHwmbIhjJ4QzoPy18J0ZAtInHQ_LtLX5AqicR0dD3bBnKxHxGKgXngm-h0pNJA11TgAfAYE5p')), GroundingChunk(retrieved_context=None, web=GroundingChunkWeb(title='sfu.ca', uri='https://vertexaisearch.cloud.google.com/grounding-api-redirect/AYygrcT7odgJqbN67WT57ro1_gvvT8EMAzLRX8Y7A-fibAgU87Ta1Z1bKWUHtyheYwdimP1IxRawwvVBZSgdrEifRlMNDdtTQdK82zvl5GfS8D2Iy3z6dnsjWbamBDIT7bTqgTSGGczgBB1WUbwvLt_H')), GroundingChunk(retrieved_context=None, web=GroundingChunkWeb(title='uwindsor.ca', uri='https://vertexaisearch.cloud.google.com/grounding-api-redirect/AYygrcS6hai5OsSpO-SHQAYqK7PYpC4Ftar46fzCgygF3zVHuKwE0l5d_aWQLTr1iEYuJrRvpk_lZfgg_r0EpzbKh8QutXvde2nXXAwwHGBMpZUdLlvA6cqd_uej9CZEvHtHAbDUV7FS5jisonVE9nQRJIhJh8GJXHBuprG2Z-9yni6ACG8ahXE8ySuZf1kpXaC5V-vBpvb_fj6NouNjapwNgjbeuuhYYoJ1')), GroundingChunk(retrieved_context=None, web=GroundingChunkWeb(title='carleton.ca', uri='https://vertexaisearch.cloud.google.com/grounding-api-redirect/AYygrcTbgdDEpFZxrOpe42_Cttp-KqIe1S_a8PEeEgfLWE4y2nfmTzkiF-b9jBLGbgV1UY5W7HC0BUGvMt37dNaHUOltoNMaaRwUJunauRev9mNAeeHQz6mBDb_xQhkmo-NT_ds96FLAB_0wYBwuJm6IwtG7dCE='))] grounding_supports=[GroundingSupport(confidence_scores=[0.980306], grounding_chunk_indices=[0], segment=Segment(end_index=410, part_index=None, start_index=255, text='*   **Digital Twins:** This lab, led by Professor Abdulmotaleb El Saddik, is focused on the convergence of multimedia technologies to create digital twins.')), GroundingSupport(confidence_scores=[0.94097906], grounding_chunk_indices=[0], segment=Segment(end_index=547, part_index=None, start_index=411, text='These digital replicas of physical entities bridge the gap between the physical and virtual worlds, enabling seamless data transmission.')), GroundingSupport(confidence_scores=[0.95817024], grounding_chunk_indices=[0], segment=Segment(end_index=617, part_index=None, start_index=548, text='*   **Research Pillars:** Their research is guided by five key areas:')), GroundingSupport(confidence_scores=[0.74685174], grounding_chunk_indices=[0], segment=Segment(end_index=676, part_index=None, start_index=659, text='*   Cybersecurity')), GroundingSupport(confidence_scores=[0.9348717], grounding_chunk_indices=[0], segment=Segment(end_index=788, part_index=None, start_index=734, text='*   Multimedia Interactions (Haptics, AR/VR, Robotics)')), GroundingSupport(confidence_scores=[0.8224868], grounding_chunk_indices=[0], segment=Segment(end_index=851, part_index=None, start_index=793, text='*   Quality of Experience (QoE) in communication networks.')), GroundingSupport(confidence_scores=[0.846148], grounding_chunk_indices=[1], segment=Segment(end_index=937, part_index=None, start_index=858, text='Multimedia Communications (Multicom) Laboratory at the University of Waterloo**')), GroundingSupport(confidence_scores=[0.72649574], grounding_chunk_indices=[1], segment=Segment(end_index=1035, part_index=None, start_index=938, text='*   This lab is known as one of the most advanced in Canada, attracting top students and faculty.')), GroundingSupport(confidence_scores=[0.66084003], grounding_chunk_indices=[1], segment=Segment(end_index=1108, part_index=None, start_index=1088, text='*   Image Management')), GroundingSupport(confidence_scores=[0.6806561], grounding_chunk_indices=[1], segment=Segment(end_index=1166, part_index=None, start_index=1140, text='*   Multimedia Compression')), GroundingSupport(confidence_scores=[0.74118805], grounding_chunk_indices=[1], segment=Segment(end_index=1200, part_index=None, start_index=1171, text='*   Distributed Source Coding')), GroundingSupport(confidence_scores=[0.72509634], grounding_chunk_indices=[1], segment=Segment(end_index=1238, part_index=None, start_index=1205, text='*   Interactive Encoding-Decoding')), GroundingSupport(confidence_scores=[0.98260003], grounding_chunk_indices=[2], segment=Segment(end_index=1391, part_index=None, start_index=1291, text=\"*   This is the Government of Canada's primary lab for wireless technology research and development.\")), GroundingSupport(confidence_scores=[0.92676634], grounding_chunk_indices=[2], segment=Segment(end_index=1456, part_index=None, start_index=1392, text='*   They focus on the efficient use of radio frequency spectrum.')), GroundingSupport(confidence_scores=[0.7852209], grounding_chunk_indices=[2], segment=Segment(end_index=1520, part_index=None, start_index=1457, text='*   They work on projects like \"Making Better Use of Spectrum.\"')), GroundingSupport(confidence_scores=[0.75245667], grounding_chunk_indices=[3], segment=Segment(end_index=1570, part_index=None, start_index=1527, text='Multimedia Lab at Simon Fraser University**')), GroundingSupport(confidence_scores=[0.7776135], grounding_chunk_indices=[3], segment=Segment(end_index=1638, part_index=None, start_index=1606, text='*   Multimedia signal processing')), GroundingSupport(confidence_scores=[0.62292415], grounding_chunk_indices=[3], segment=Segment(end_index=1658, part_index=None, start_index=1643, text='*   Compression')), GroundingSupport(confidence_scores=[0.7867211], grounding_chunk_indices=[3], segment=Segment(end_index=1711, part_index=None, start_index=1686, text='*   Multimedia ergonomics')), GroundingSupport(confidence_scores=[0.8990374], grounding_chunk_indices=[0], segment=Segment(end_index=1762, part_index=None, start_index=1734, text='*   Artificial Intelligence.')), GroundingSupport(confidence_scores=[0.9852491], grounding_chunk_indices=[4], segment=Segment(end_index=1903, part_index=None, start_index=1865, text='*   Their work is in three main areas:')), GroundingSupport(confidence_scores=[0.89066225], grounding_chunk_indices=[4], segment=Segment(end_index=1956, part_index=None, start_index=1908, text='*   Internet of Things (IoT) and sensor networks')), GroundingSupport(confidence_scores=[0.9589816], grounding_chunk_indices=[4], segment=Segment(end_index=2026, part_index=None, start_index=1961, text='*   Vehicle-to-vehicle (V2V) communication and connected vehicles')), GroundingSupport(confidence_scores=[0.85289925], grounding_chunk_indices=[4], segment=Segment(end_index=2089, part_index=None, start_index=2031, text='*   Wireless and mobile networks with a focus on security.')), GroundingSupport(confidence_scores=[0.9472058], grounding_chunk_indices=[5], segment=Segment(end_index=2502, part_index=None, start_index=2311, text='For instance, Carleton has a program in Communication and Media studies that includes the ALiGN Media Lab, the Autistic Menopause Study, and the Global Media & Internet Concentration Project.'))] retrieval_metadata=None retrieval_queries=None search_entry_point=SearchEntryPoint(rendered_content='<style>\\n.container {\\n  align-items: center;\\n  border-radius: 8px;\\n  display: flex;\\n  font-family: Google Sans, Roboto, sans-serif;\\n  font-size: 14px;\\n  line-height: 20px;\\n  padding: 8px 12px;\\n}\\n.chip {\\n  display: inline-block;\\n  border: solid 1px;\\n  border-radius: 16px;\\n  min-width: 14px;\\n  padding: 5px 16px;\\n  text-align: center;\\n  user-select: none;\\n  margin: 0 8px;\\n  -webkit-tap-highlight-color: transparent;\\n}\\n.carousel {\\n  overflow: auto;\\n  scrollbar-width: none;\\n  white-space: nowrap;\\n  margin-right: -12px;\\n}\\n.headline {\\n  display: flex;\\n  margin-right: 4px;\\n}\\n.gradient-container {\\n  position: relative;\\n}\\n.gradient {\\n  position: absolute;\\n  transform: translate(3px, -9px);\\n  height: 36px;\\n  width: 9px;\\n}\\n@media (prefers-color-scheme: light) {\\n  .container {\\n    background-color: #fafafa;\\n    box-shadow: 0 0 0 1px #0000000f;\\n  }\\n  .headline-label {\\n    color: #1f1f1f;\\n  }\\n  .chip {\\n    background-color: #ffffff;\\n    border-color: #d2d2d2;\\n    color: #5e5e5e;\\n    text-decoration: none;\\n  }\\n  .chip:hover {\\n    background-color: #f2f2f2;\\n  }\\n  .chip:focus {\\n    background-color: #f2f2f2;\\n  }\\n  .chip:active {\\n    background-color: #d8d8d8;\\n    border-color: #b6b6b6;\\n  }\\n  .logo-dark {\\n    display: none;\\n  }\\n  .gradient {\\n    background: linear-gradient(90deg, #fafafa 15%, #fafafa00 100%);\\n  }\\n}\\n@media (prefers-color-scheme: dark) {\\n  .container {\\n    background-color: #1f1f1f;\\n    box-shadow: 0 0 0 1px #ffffff26;\\n  }\\n  .headline-label {\\n    color: #fff;\\n  }\\n  .chip {\\n    background-color: #2c2c2c;\\n    border-color: #3c4043;\\n    color: #fff;\\n    text-decoration: none;\\n  }\\n  .chip:hover {\\n    background-color: #353536;\\n  }\\n  .chip:focus {\\n    background-color: #353536;\\n  }\\n  .chip:active {\\n    background-color: #464849;\\n    border-color: #53575b;\\n  }\\n  .logo-light {\\n    display: none;\\n  }\\n  .gradient {\\n    background: linear-gradient(90deg, #1f1f1f 15%, #1f1f1f00 100%);\\n  }\\n}\\n</style>\\n<div class=\"container\">\\n  <div class=\"headline\">\\n    <svg class=\"logo-light\" width=\"18\" height=\"18\" viewBox=\"9 9 35 35\" fill=\"none\" xmlns=\"http://www.w3.org/2000/svg\">\\n      <path fill-rule=\"evenodd\" clip-rule=\"evenodd\" d=\"M42.8622 27.0064C42.8622 25.7839 42.7525 24.6084 42.5487 23.4799H26.3109V30.1568H35.5897C35.1821 32.3041 33.9596 34.1222 32.1258 35.3448V39.6864H37.7213C40.9814 36.677 42.8622 32.2571 42.8622 27.0064V27.0064Z\" fill=\"#4285F4\"/>\\n      <path fill-rule=\"evenodd\" clip-rule=\"evenodd\" d=\"M26.3109 43.8555C30.9659 43.8555 34.8687 42.3195 37.7213 39.6863L32.1258 35.3447C30.5898 36.3792 28.6306 37.0061 26.3109 37.0061C21.8282 37.0061 18.0195 33.9811 16.6559 29.906H10.9194V34.3573C13.7563 39.9841 19.5712 43.8555 26.3109 43.8555V43.8555Z\" fill=\"#34A853\"/>\\n      <path fill-rule=\"evenodd\" clip-rule=\"evenodd\" d=\"M16.6559 29.8904C16.3111 28.8559 16.1074 27.7588 16.1074 26.6146C16.1074 25.4704 16.3111 24.3733 16.6559 23.3388V18.8875H10.9194C9.74388 21.2072 9.06992 23.8247 9.06992 26.6146C9.06992 29.4045 9.74388 32.022 10.9194 34.3417L15.3864 30.8621L16.6559 29.8904V29.8904Z\" fill=\"#FBBC05\"/>\\n      <path fill-rule=\"evenodd\" clip-rule=\"evenodd\" d=\"M26.3109 16.2386C28.85 16.2386 31.107 17.1164 32.9095 18.8091L37.8466 13.8719C34.853 11.082 30.9659 9.3736 26.3109 9.3736C19.5712 9.3736 13.7563 13.245 10.9194 18.8875L16.6559 23.3388C18.0195 19.2636 21.8282 16.2386 26.3109 16.2386V16.2386Z\" fill=\"#EA4335\"/>\\n    </svg>\\n    <svg class=\"logo-dark\" width=\"18\" height=\"18\" viewBox=\"0 0 48 48\" xmlns=\"http://www.w3.org/2000/svg\">\\n      <circle cx=\"24\" cy=\"23\" fill=\"#FFF\" r=\"22\"/>\\n      <path d=\"M33.76 34.26c2.75-2.56 4.49-6.37 4.49-11.26 0-.89-.08-1.84-.29-3H24.01v5.99h8.03c-.4 2.02-1.5 3.56-3.07 4.56v.75l3.91 2.97h.88z\" fill=\"#4285F4\"/>\\n      <path d=\"M15.58 25.77A8.845 8.845 0 0 0 24 31.86c1.92 0 3.62-.46 4.97-1.31l4.79 3.71C31.14 36.7 27.65 38 24 38c-5.93 0-11.01-3.4-13.45-8.36l.17-1.01 4.06-2.85h.8z\" fill=\"#34A853\"/>\\n      <path d=\"M15.59 20.21a8.864 8.864 0 0 0 0 5.58l-5.03 3.86c-.98-2-1.53-4.25-1.53-6.64 0-2.39.55-4.64 1.53-6.64l1-.22 3.81 2.98.22 1.08z\" fill=\"#FBBC05\"/>\\n      <path d=\"M24 14.14c2.11 0 4.02.75 5.52 1.98l4.36-4.36C31.22 9.43 27.81 8 24 8c-5.93 0-11.01 3.4-13.45 8.36l5.03 3.85A8.86 8.86 0 0 1 24 14.14z\" fill=\"#EA4335\"/>\\n    </svg>\\n    <div class=\"gradient-container\"><div class=\"gradient\"></div></div>\\n  </div>\\n  <div class=\"carousel\">\\n    <a class=\"chip\" href=\"https://vertexaisearch.cloud.google.com/grounding-api-redirect/AYygrcQy7Sy2wulItRnHBzFGx8Z6TvydQCYWusGfnM7BdUi44Htvwlz6FYT2q16DZIUSFpe8cIvG8P3JA4bpIuGGUY_QM4uYHeI28fWCRQ8XPElQ4Taiwb2luV-R6SAySPWZ_34mYhjlFbMacUVDRl8CikzwBPmhxyi-L7SVVsdRNVDwRNBVO1nTKUV4m92_EVKFAnnqjiqrXo2kaXi_Kov6Fl2ssW8gB8AUraZaZxMuTn5XpZfp1VOR6GJfa6tdJBalLb9OPAiLan9GV9w=\">Multimedia and Communications Research Laboratory Canada research projects</a>\\n    <a class=\"chip\" href=\"https://vertexaisearch.cloud.google.com/grounding-api-redirect/AYygrcTgCmw8PWihJ9RPPq6844FzwwUEQRrrmJ_70aby0ynihvoqVm2AsuiCcJ2KDv5KFrylk42lzOhXzOM7RMvifuXzVnzlvxEFo99M8c0w78vHnyQmE6NVrxyNm1Tf9H0Ghy2uiemtK-sCWx79dRy320PD8EykA3t01rJXIL4TqtfO4bD96ZOsrd3_oVga3im2y3aNfCptC4QAyXUEch-4RHPu_ZE5WOYUsktHPi0hxN44hCZMzNf5h8fPl4YYEDMRrBK1Y_RzJ4m9\">latest creation Multimedia and Communications Research Laboratory Canada</a>\\n  </div>\\n</div>\\n', sdk_blob=None) web_search_queries=['latest creation Multimedia and Communications Research Laboratory Canada', 'Multimedia and Communications Research Laboratory Canada research projects']\n"
          ]
        },
        {
          "output_type": "execute_result",
          "data": {
            "text/plain": [
              "<IPython.core.display.HTML object>"
            ],
            "text/html": [
              "<style>\n",
              ".container {\n",
              "  align-items: center;\n",
              "  border-radius: 8px;\n",
              "  display: flex;\n",
              "  font-family: Google Sans, Roboto, sans-serif;\n",
              "  font-size: 14px;\n",
              "  line-height: 20px;\n",
              "  padding: 8px 12px;\n",
              "}\n",
              ".chip {\n",
              "  display: inline-block;\n",
              "  border: solid 1px;\n",
              "  border-radius: 16px;\n",
              "  min-width: 14px;\n",
              "  padding: 5px 16px;\n",
              "  text-align: center;\n",
              "  user-select: none;\n",
              "  margin: 0 8px;\n",
              "  -webkit-tap-highlight-color: transparent;\n",
              "}\n",
              ".carousel {\n",
              "  overflow: auto;\n",
              "  scrollbar-width: none;\n",
              "  white-space: nowrap;\n",
              "  margin-right: -12px;\n",
              "}\n",
              ".headline {\n",
              "  display: flex;\n",
              "  margin-right: 4px;\n",
              "}\n",
              ".gradient-container {\n",
              "  position: relative;\n",
              "}\n",
              ".gradient {\n",
              "  position: absolute;\n",
              "  transform: translate(3px, -9px);\n",
              "  height: 36px;\n",
              "  width: 9px;\n",
              "}\n",
              "@media (prefers-color-scheme: light) {\n",
              "  .container {\n",
              "    background-color: #fafafa;\n",
              "    box-shadow: 0 0 0 1px #0000000f;\n",
              "  }\n",
              "  .headline-label {\n",
              "    color: #1f1f1f;\n",
              "  }\n",
              "  .chip {\n",
              "    background-color: #ffffff;\n",
              "    border-color: #d2d2d2;\n",
              "    color: #5e5e5e;\n",
              "    text-decoration: none;\n",
              "  }\n",
              "  .chip:hover {\n",
              "    background-color: #f2f2f2;\n",
              "  }\n",
              "  .chip:focus {\n",
              "    background-color: #f2f2f2;\n",
              "  }\n",
              "  .chip:active {\n",
              "    background-color: #d8d8d8;\n",
              "    border-color: #b6b6b6;\n",
              "  }\n",
              "  .logo-dark {\n",
              "    display: none;\n",
              "  }\n",
              "  .gradient {\n",
              "    background: linear-gradient(90deg, #fafafa 15%, #fafafa00 100%);\n",
              "  }\n",
              "}\n",
              "@media (prefers-color-scheme: dark) {\n",
              "  .container {\n",
              "    background-color: #1f1f1f;\n",
              "    box-shadow: 0 0 0 1px #ffffff26;\n",
              "  }\n",
              "  .headline-label {\n",
              "    color: #fff;\n",
              "  }\n",
              "  .chip {\n",
              "    background-color: #2c2c2c;\n",
              "    border-color: #3c4043;\n",
              "    color: #fff;\n",
              "    text-decoration: none;\n",
              "  }\n",
              "  .chip:hover {\n",
              "    background-color: #353536;\n",
              "  }\n",
              "  .chip:focus {\n",
              "    background-color: #353536;\n",
              "  }\n",
              "  .chip:active {\n",
              "    background-color: #464849;\n",
              "    border-color: #53575b;\n",
              "  }\n",
              "  .logo-light {\n",
              "    display: none;\n",
              "  }\n",
              "  .gradient {\n",
              "    background: linear-gradient(90deg, #1f1f1f 15%, #1f1f1f00 100%);\n",
              "  }\n",
              "}\n",
              "</style>\n",
              "<div class=\"container\">\n",
              "  <div class=\"headline\">\n",
              "    <svg class=\"logo-light\" width=\"18\" height=\"18\" viewBox=\"9 9 35 35\" fill=\"none\" xmlns=\"http://www.w3.org/2000/svg\">\n",
              "      <path fill-rule=\"evenodd\" clip-rule=\"evenodd\" d=\"M42.8622 27.0064C42.8622 25.7839 42.7525 24.6084 42.5487 23.4799H26.3109V30.1568H35.5897C35.1821 32.3041 33.9596 34.1222 32.1258 35.3448V39.6864H37.7213C40.9814 36.677 42.8622 32.2571 42.8622 27.0064V27.0064Z\" fill=\"#4285F4\"/>\n",
              "      <path fill-rule=\"evenodd\" clip-rule=\"evenodd\" d=\"M26.3109 43.8555C30.9659 43.8555 34.8687 42.3195 37.7213 39.6863L32.1258 35.3447C30.5898 36.3792 28.6306 37.0061 26.3109 37.0061C21.8282 37.0061 18.0195 33.9811 16.6559 29.906H10.9194V34.3573C13.7563 39.9841 19.5712 43.8555 26.3109 43.8555V43.8555Z\" fill=\"#34A853\"/>\n",
              "      <path fill-rule=\"evenodd\" clip-rule=\"evenodd\" d=\"M16.6559 29.8904C16.3111 28.8559 16.1074 27.7588 16.1074 26.6146C16.1074 25.4704 16.3111 24.3733 16.6559 23.3388V18.8875H10.9194C9.74388 21.2072 9.06992 23.8247 9.06992 26.6146C9.06992 29.4045 9.74388 32.022 10.9194 34.3417L15.3864 30.8621L16.6559 29.8904V29.8904Z\" fill=\"#FBBC05\"/>\n",
              "      <path fill-rule=\"evenodd\" clip-rule=\"evenodd\" d=\"M26.3109 16.2386C28.85 16.2386 31.107 17.1164 32.9095 18.8091L37.8466 13.8719C34.853 11.082 30.9659 9.3736 26.3109 9.3736C19.5712 9.3736 13.7563 13.245 10.9194 18.8875L16.6559 23.3388C18.0195 19.2636 21.8282 16.2386 26.3109 16.2386V16.2386Z\" fill=\"#EA4335\"/>\n",
              "    </svg>\n",
              "    <svg class=\"logo-dark\" width=\"18\" height=\"18\" viewBox=\"0 0 48 48\" xmlns=\"http://www.w3.org/2000/svg\">\n",
              "      <circle cx=\"24\" cy=\"23\" fill=\"#FFF\" r=\"22\"/>\n",
              "      <path d=\"M33.76 34.26c2.75-2.56 4.49-6.37 4.49-11.26 0-.89-.08-1.84-.29-3H24.01v5.99h8.03c-.4 2.02-1.5 3.56-3.07 4.56v.75l3.91 2.97h.88z\" fill=\"#4285F4\"/>\n",
              "      <path d=\"M15.58 25.77A8.845 8.845 0 0 0 24 31.86c1.92 0 3.62-.46 4.97-1.31l4.79 3.71C31.14 36.7 27.65 38 24 38c-5.93 0-11.01-3.4-13.45-8.36l.17-1.01 4.06-2.85h.8z\" fill=\"#34A853\"/>\n",
              "      <path d=\"M15.59 20.21a8.864 8.864 0 0 0 0 5.58l-5.03 3.86c-.98-2-1.53-4.25-1.53-6.64 0-2.39.55-4.64 1.53-6.64l1-.22 3.81 2.98.22 1.08z\" fill=\"#FBBC05\"/>\n",
              "      <path d=\"M24 14.14c2.11 0 4.02.75 5.52 1.98l4.36-4.36C31.22 9.43 27.81 8 24 8c-5.93 0-11.01 3.4-13.45 8.36l5.03 3.85A8.86 8.86 0 0 1 24 14.14z\" fill=\"#EA4335\"/>\n",
              "    </svg>\n",
              "    <div class=\"gradient-container\"><div class=\"gradient\"></div></div>\n",
              "  </div>\n",
              "  <div class=\"carousel\">\n",
              "    <a class=\"chip\" href=\"https://vertexaisearch.cloud.google.com/grounding-api-redirect/AYygrcQy7Sy2wulItRnHBzFGx8Z6TvydQCYWusGfnM7BdUi44Htvwlz6FYT2q16DZIUSFpe8cIvG8P3JA4bpIuGGUY_QM4uYHeI28fWCRQ8XPElQ4Taiwb2luV-R6SAySPWZ_34mYhjlFbMacUVDRl8CikzwBPmhxyi-L7SVVsdRNVDwRNBVO1nTKUV4m92_EVKFAnnqjiqrXo2kaXi_Kov6Fl2ssW8gB8AUraZaZxMuTn5XpZfp1VOR6GJfa6tdJBalLb9OPAiLan9GV9w=\">Multimedia and Communications Research Laboratory Canada research projects</a>\n",
              "    <a class=\"chip\" href=\"https://vertexaisearch.cloud.google.com/grounding-api-redirect/AYygrcTgCmw8PWihJ9RPPq6844FzwwUEQRrrmJ_70aby0ynihvoqVm2AsuiCcJ2KDv5KFrylk42lzOhXzOM7RMvifuXzVnzlvxEFo99M8c0w78vHnyQmE6NVrxyNm1Tf9H0Ghy2uiemtK-sCWx79dRy320PD8EykA3t01rJXIL4TqtfO4bD96ZOsrd3_oVga3im2y3aNfCptC4QAyXUEch-4RHPu_ZE5WOYUsktHPi0hxN44hCZMzNf5h8fPl4YYEDMRrBK1Y_RzJ4m9\">latest creation Multimedia and Communications Research Laboratory Canada</a>\n",
              "  </div>\n",
              "</div>\n"
            ]
          },
          "metadata": {},
          "execution_count": 31
        }
      ],
      "source": [
        "google_search_tool = Tool(google_search=GoogleSearch())\n",
        "ask_question = \"What is the latest creation by Multimedia and Communications Research Laboratory in Canada?\" # @param {type: \"string\"}\n",
        "\n",
        "response = client.models.generate_content(\n",
        "    model=MODEL_ID,\n",
        "    contents=ask_question,\n",
        "    config=GenerateContentConfig(tools=[google_search_tool]),\n",
        ")\n",
        "\n",
        "display(Markdown(response.text))\n",
        "\n",
        "print(response.candidates[0].grounding_metadata)\n",
        "\n",
        "HTML(response.candidates[0].grounding_metadata.search_entry_point.rendered_content)"
      ]
    },
    {
      "cell_type": "markdown",
      "metadata": {
        "id": "MhDs2X3o0neK"
      },
      "source": [
        "**Function Calling Dup: Code Execution using Tool**\n",
        "1. The Gemini API provides code execution as a tool, similar to function calling.\n",
        "2. After you add code execution as a tool, the model decides when to use it."
      ]
    },
    {
      "cell_type": "code",
      "execution_count": 32,
      "metadata": {
        "id": "1W-3c7sy0nyz",
        "colab": {
          "base_uri": "https://localhost:8080/",
          "height": 596
        },
        "outputId": "af21a152-4e74-4b30-e236-88b64c8b996a"
      },
      "outputs": [
        {
          "output_type": "stream",
          "name": "stdout",
          "text": [
            "Language: PYTHON\n"
          ]
        },
        {
          "output_type": "display_data",
          "data": {
            "text/plain": [
              "<IPython.core.display.Markdown object>"
            ],
            "text/markdown": "\n```\n\ndef fibonacci(n):\n    if n <= 0:\n        return 0\n    elif n == 1:\n        return 1\n    else:\n        a, b = 0, 1\n        for _ in range(2, n + 1):\n            a, b = b, a + b\n        return b\n\nfib_20 = fibonacci(20)\nprint(f'{fib_20=}')\n\n```\n"
          },
          "metadata": {}
        },
        {
          "output_type": "stream",
          "name": "stdout",
          "text": [
            "\n",
            "Outcome: OUTCOME_OK\n"
          ]
        },
        {
          "output_type": "display_data",
          "data": {
            "text/plain": [
              "<IPython.core.display.Markdown object>"
            ],
            "text/markdown": "`fib_20=6765\n`"
          },
          "metadata": {}
        },
        {
          "output_type": "stream",
          "name": "stdout",
          "text": [
            "Language: PYTHON\n"
          ]
        },
        {
          "output_type": "display_data",
          "data": {
            "text/plain": [
              "<IPython.core.display.Markdown object>"
            ],
            "text/markdown": "\n```\n\nfib_20 = 6765\npalindrome_1 = 6776\npalindrome_2 = 6666\n\ndiff1 = abs(fib_20 - palindrome_1)\ndiff2 = abs(fib_20 - palindrome_2)\n\nprint(f'{diff1=}')\nprint(f'{diff2=}')\n\n```\n"
          },
          "metadata": {}
        },
        {
          "output_type": "stream",
          "name": "stdout",
          "text": [
            "\n",
            "Outcome: OUTCOME_OK\n"
          ]
        },
        {
          "output_type": "display_data",
          "data": {
            "text/plain": [
              "<IPython.core.display.Markdown object>"
            ],
            "text/markdown": "`diff1=11\ndiff2=99\n`"
          },
          "metadata": {}
        }
      ],
      "source": [
        "code_execution_tool = Tool(code_execution={})\n",
        "\n",
        "response = client.models.generate_content(\n",
        "    model=MODEL_ID,\n",
        "    contents=\"Calculate 20th fibonacci number. Then find the nearest palindrome to it.\",\n",
        "    config=GenerateContentConfig(\n",
        "        tools=[code_execution_tool],\n",
        "        temperature=0,\n",
        "    ),\n",
        ")\n",
        "for part in response.candidates[0].content.parts:\n",
        "    if part.executable_code:\n",
        "        print(\"Language:\", part.executable_code.language)\n",
        "        display(\n",
        "            Markdown(\n",
        "                f\"\"\"\n",
        "```\n",
        "{part.executable_code.code}\n",
        "```\n",
        "\"\"\"\n",
        "            )\n",
        "        )\n",
        "    if part.code_execution_result:\n",
        "        print(\"\\nOutcome:\", part.code_execution_result.outcome)\n",
        "        display(Markdown(f\"`{part.code_execution_result.output}`\"))"
      ]
    },
    {
      "cell_type": "markdown",
      "source": [
        "# **Spatial Understanding**"
      ],
      "metadata": {
        "id": "gByP9bCtyX4M"
      }
    },
    {
      "cell_type": "markdown",
      "source": [
        "Get an G"
      ],
      "metadata": {
        "id": "v9fO0D5Xygud"
      }
    },
    {
      "cell_type": "code",
      "source": [],
      "metadata": {
        "id": "KRwU3ZAiyWHR"
      },
      "execution_count": null,
      "outputs": []
    },
    {
      "cell_type": "markdown",
      "metadata": {
        "id": "eQwiONFdVHw5"
      },
      "source": [
        "## Reference\n",
        "\n",
        "1. Check this [refrence ](https://github.com/GoogleCloudPlatform/generative-ai/blob/main/gemini/getting-started/intro_gemini_1_5_pro.ipynb)to understand more capabilities by Gemini 2.0  capabilities\n",
        "\n",
        "\n"
      ]
    }
  ],
  "metadata": {
    "colab": {
      "collapsed_sections": [
        "hIJVEr0RQY8S",
        "rZV2TY5Pa3Dd",
        "hYKAzG1sH-K1",
        "mSUWWlrrlR-D",
        "h4syyLEClGcn"
      ],
      "provenance": [],
      "include_colab_link": true
    },
    "kernelspec": {
      "display_name": "Python 3",
      "name": "python3"
    }
  },
  "nbformat": 4,
  "nbformat_minor": 0
}